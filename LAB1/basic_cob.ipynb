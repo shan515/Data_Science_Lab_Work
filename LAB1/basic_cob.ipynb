{
 "cells": [
  {
   "cell_type": "code",
   "execution_count": 1,
   "metadata": {},
   "outputs": [],
   "source": [
    "import numpy as np\n",
    "import matplotlib.pyplot as plt\n",
    "import math as cmath\n",
    "#%matplotlib notebook\n",
    "#import mpld3\n",
    "#mpld3.enable_notebook()"
   ]
  },
  {
   "cell_type": "code",
   "execution_count": 8,
   "metadata": {},
   "outputs": [],
   "source": [
    "i = 1j\n",
    "f = np.array([1+2*i,2+0*i,3+7*i,4+9*i])\n",
    "w = [[2j for a in range(4)] for b in range(4)]\n",
    "w_exp = [[2j for a in range(4)] for b in range(4)]\n",
    "#np.array(w)\n",
    "#np.array(w_exp)\n",
    "for u in range (0,4):\n",
    "    for k in range (0,4):\n",
    "        w[u][k] = np.exp(-2j*np.pi*u*k/len(f))\n",
    "        w_exp[u][k] = np.exp(2j*np.pi*u*k/len(f))\n"
   ]
  },
  {
   "cell_type": "code",
   "execution_count": 11,
   "metadata": {},
   "outputs": [
    {
     "name": "stdout",
     "output_type": "stream",
     "text": [
      "[ 4. +8.j  8. +0.j 12.+28.j 16.+36.j]\n"
     ]
    }
   ],
   "source": [
    "print(f)"
   ]
  },
  {
   "cell_type": "code",
   "execution_count": 4,
   "metadata": {},
   "outputs": [
    {
     "name": "stdout",
     "output_type": "stream",
     "text": [
      "(1+0j)\n",
      "(1+0j)\n",
      "(1+0j)\n",
      "(1+0j)\n",
      "(1+0j)\n",
      "(6.123233995736766e-17-1j)\n",
      "(-1-1.2246467991473532e-16j)\n",
      "(-1.8369701987210297e-16+1j)\n",
      "(1+0j)\n",
      "(-1-1.2246467991473532e-16j)\n",
      "(1+2.4492935982947064e-16j)\n",
      "(-1-3.6739403974420594e-16j)\n",
      "(1+0j)\n",
      "(-1.8369701987210297e-16+1j)\n",
      "(-1-3.6739403974420594e-16j)\n",
      "(5.51091059616309e-16-1j)\n"
     ]
    }
   ],
   "source": [
    "for i in range(4):\n",
    "    for j in range(4):\n",
    "        print(w[i][j])"
   ]
  },
  {
   "cell_type": "code",
   "execution_count": 10,
   "metadata": {},
   "outputs": [
    {
     "name": "stdout",
     "output_type": "stream",
     "text": [
      "[ 40.+7.20000000e+01j -44.-1.20000000e+01j  -8.-3.91886976e-15j\n",
      "  28.-2.80000000e+01j]\n"
     ]
    }
   ],
   "source": [
    "f = np.dot(f,4)\n",
    "F = np.dot(f,w)\n",
    "print(F)"
   ]
  },
  {
   "cell_type": "code",
   "execution_count": 7,
   "metadata": {},
   "outputs": [
    {
     "name": "stdout",
     "output_type": "stream",
     "text": [
      "(1+0j)\n",
      "(1+0j)\n",
      "(1+0j)\n",
      "(1+0j)\n",
      "(1+0j)\n",
      "(6.123233995736766e-17+1j)\n",
      "(-1+1.2246467991473532e-16j)\n",
      "(-1.8369701987210297e-16-1j)\n",
      "(1+0j)\n",
      "(-1+1.2246467991473532e-16j)\n",
      "(1-2.4492935982947064e-16j)\n",
      "(-1+3.6739403974420594e-16j)\n",
      "(1+0j)\n",
      "(-1.8369701987210297e-16-1j)\n",
      "(-1+3.6739403974420594e-16j)\n",
      "(5.51091059616309e-16+1j)\n"
     ]
    }
   ],
   "source": [
    "for i in range(4):\n",
    "    for j in range(4):\n",
    "        print(w_exp[i][j])"
   ]
  },
  {
   "cell_type": "code",
   "execution_count": 8,
   "metadata": {},
   "outputs": [
    {
     "name": "stdout",
     "output_type": "stream",
     "text": [
      "[1.+2.0000000e+00j 2.-8.8817842e-16j 3.+7.0000000e+00j 4.+9.0000000e+00j]\n"
     ]
    }
   ],
   "source": [
    "f_res = (np.dot(w_exp,F))/4\n",
    "print(f_res)"
   ]
  }
 ],
 "metadata": {
  "kernelspec": {
   "display_name": "Python 3",
   "language": "python",
   "name": "python3"
  },
  "language_info": {
   "codemirror_mode": {
    "name": "ipython",
    "version": 3
   },
   "file_extension": ".py",
   "mimetype": "text/x-python",
   "name": "python",
   "nbconvert_exporter": "python",
   "pygments_lexer": "ipython3",
   "version": "3.6.12"
  }
 },
 "nbformat": 4,
 "nbformat_minor": 4
}
