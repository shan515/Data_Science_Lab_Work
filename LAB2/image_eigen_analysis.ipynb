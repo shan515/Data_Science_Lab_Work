{
 "cells": [
  {
   "cell_type": "code",
   "execution_count": 23,
   "metadata": {},
   "outputs": [
    {
     "name": "stdout",
     "output_type": "stream",
     "text": [
      "[[246.96198889 239.2972     226.49577778 ...  12.38504444  10.3326\n",
      "   13.36996667]\n",
      " [239.2972     241.6664     239.86266667 ...  10.4972       8.53786667\n",
      "   11.40626667]\n",
      " [226.49577778 239.86266667 251.78222222 ...   7.79688889   6.02466667\n",
      "    8.68066667]\n",
      " ...\n",
      " [ 12.38504444  10.4972       7.79688889 ...  35.89782222  32.53093333\n",
      "   32.7858    ]\n",
      " [ 10.3326       8.53786667   6.02466667 ...  32.53093333  30.7596\n",
      "   31.72846667]\n",
      " [ 13.36996667  11.40626667   8.68066667 ...  32.7858      31.72846667\n",
      "   33.77523333]]\n",
      "Percent of eigen values to be discarded: 1\n",
      "Error  0.07666666666666666\n",
      "Sum of discarded eigen Values  0.0014156128461653874\n"
     ]
    }
   ],
   "source": [
    "import cv2\n",
    "import numpy as np\n",
    "from numpy import linalg as la\n",
    "#To accept image in normalized form \n",
    "img=cv2.imread('/home/hp/Downloads/ds_image.jpeg')\n",
    "gray_image = cv2.cvtColor(img, cv2.COLOR_BGR2GRAY) \n",
    "X = gray_image\n",
    "N = gray_image.shape[0]\n",
    "n = gray_image.shape[1]\n",
    "#print(\"Covarience is : \")\n",
    "C = np.cov(X,ddof=0)\n",
    "print(C)\n",
    "\n",
    "#Eigen values and vectors\n",
    "w, v = la.eig(C)\n",
    "v = v.T\n",
    "#print(\"Eigen values\")\n",
    "#print(w)\n",
    "#print(\"Eigen Vectors\")\n",
    "#print(v)\n",
    "z = [x for _,x in sorted(zip(w,v),reverse=True)]\n",
    "z = np.array(z)\n",
    "#print(\"Index of Eigen value to be discarded: \")\n",
    "X = np.array(X)\n",
    "k = int(input(\"Percent of eigen values to be discarded: \"))\n",
    "k = int((k*X.shape[0])/100)\n",
    "for i in range (k):\n",
    "    z = np.delete(z,(z.shape[0]-1),axis=0)\n",
    "x_ = np.zeros((X.shape[0],X.shape[1]), dtype = int)\n",
    "y = np.dot(z,X)\n",
    "y = np.array(y)\n",
    "x_ = np.dot(z.T,y)\n",
    "x_ = np.around(x_).astype(np.uint8)\n",
    "while True:\n",
    "    cv2.imshow(\"Orignal\",X)\n",
    "    cv2.imshow(\"Reconstructed\",x_)\n",
    "    if cv2.waitKey(0):\n",
    "        break\n",
    "cv2.destroyAllWindows()\n",
    "\n",
    "E = (X-x_)**2\n",
    "E = np.sum(E,axis=1)/X.shape[1]\n",
    "E = np.sum(E,axis=0)\n",
    "print(\"Error \", E)\n",
    "\n",
    "disc_eigen = 0\n",
    "l = X.shape[0]\n",
    "for i in range(0,k):\n",
    "    disc_eigen = disc_eigen + w[l-1-i]\n",
    "print(\"Sum of discarded eigen Values \" , disc_eigen)"
   ]
  }
 ],
 "metadata": {
  "kernelspec": {
   "display_name": "Python 3",
   "language": "python",
   "name": "python3"
  },
  "language_info": {
   "codemirror_mode": {
    "name": "ipython",
    "version": 3
   },
   "file_extension": ".py",
   "mimetype": "text/x-python",
   "name": "python",
   "nbconvert_exporter": "python",
   "pygments_lexer": "ipython3",
   "version": "3.6.12"
  }
 },
 "nbformat": 4,
 "nbformat_minor": 4
}
