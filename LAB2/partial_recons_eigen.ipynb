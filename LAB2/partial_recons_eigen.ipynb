{
 "cells": [
  {
   "cell_type": "code",
   "execution_count": 1,
   "metadata": {},
   "outputs": [
    {
     "name": "stdout",
     "output_type": "stream",
     "text": [
      "Enter the dimension of data : 2\n",
      "Number of data points : 8\n",
      "(2, 8)\n",
      "Covarience is : \n",
      "[[0. 0.]\n",
      " [0. 0.]]\n",
      "Eigen values\n",
      "[0. 0.]\n",
      "Eigen Vectors\n",
      "[[1. 0.]\n",
      " [0. 1.]]\n",
      "Index of Eigen value to be discarded: \n",
      "0\n"
     ]
    }
   ],
   "source": [
    "import numpy as np\n",
    "from numpy import linalg as la\n",
    "\n",
    "N = int(input(\"Enter the dimension of data : \")) \n",
    "n = int(input(\"Number of data points : \"))\n",
    "\n",
    "X = [[0 for a in range(n)] for b in range(N)]\n",
    "print(np.shape(X))\n",
    "\n",
    "print(\"Covarience is : \")\n",
    "C = np.cov(X,ddof=0)\n",
    "print(C)\n",
    "\n",
    "#Eigen values and vectors\n",
    "w, v = la.eig(C)\n",
    "print(\"Eigen values\")\n",
    "print(w)\n",
    "print(\"Eigen Vectors\")\n",
    "print(v)\n",
    "print(\"Index of Eigen value to be discarded: \")\n",
    "idx = int(input())\n",
    "A_new = np.delete(v,(idx),axis=0)\n",
    "X = np.array(X)\n",
    "x_new = []\n",
    "x_new = np.array(x_new)\n",
    "x = []\n",
    "x = np.array(x)\n",
    "y = np.zeros((2,2))\n",
    "y = np.array(y)\n",
    "res = [[0 for a in range(n)] for b in range(N)]\n",
    "res = np.array(res)\n",
    "for i in range (n):\n",
    "    x = X[:,i]\n",
    "    x = np.array(x)\n",
    "    x = x .T\n",
    "    y = np.dot(A_new,x)\n",
    "    x_new = np.array(A_new).T * y\n",
    "    x_new = np.array(x_new.T)\n",
    "    x_new = x_new.T\n",
    "    res = np.append(res,x_new,axis=1)\n",
    "for j in range (n):\n",
    "    res = np.delete(res,(0),axis=1)"
   ]
  },
  {
   "cell_type": "code",
   "execution_count": 2,
   "metadata": {
    "scrolled": true
   },
   "outputs": [
    {
     "data": {
      "text/plain": [
       "array([[0., 0., 0., 0., 0., 0., 0., 0.],\n",
       "       [0., 0., 0., 0., 0., 0., 0., 0.]])"
      ]
     },
     "execution_count": 2,
     "metadata": {},
     "output_type": "execute_result"
    }
   ],
   "source": [
    "res"
   ]
  },
  {
   "cell_type": "code",
   "execution_count": 3,
   "metadata": {},
   "outputs": [
    {
     "data": {
      "text/plain": [
       "array([[0, 0, 0, 0, 0, 0, 0, 0],\n",
       "       [0, 0, 0, 0, 0, 0, 0, 0]])"
      ]
     },
     "execution_count": 3,
     "metadata": {},
     "output_type": "execute_result"
    }
   ],
   "source": [
    "X"
   ]
  },
  {
   "cell_type": "code",
   "execution_count": 4,
   "metadata": {},
   "outputs": [
    {
     "data": {
      "text/plain": [
       "0.0"
      ]
     },
     "execution_count": 4,
     "metadata": {},
     "output_type": "execute_result"
    }
   ],
   "source": [
    "E = (X-res)**2\n",
    "E = np.sum(E,axis=1)/8\n",
    "E = np.sum(E,axis=0)\n",
    "E"
   ]
  }
 ],
 "metadata": {
  "kernelspec": {
   "display_name": "Python 3",
   "language": "python",
   "name": "python3"
  },
  "language_info": {
   "codemirror_mode": {
    "name": "ipython",
    "version": 3
   },
   "file_extension": ".py",
   "mimetype": "text/x-python",
   "name": "python",
   "nbconvert_exporter": "python",
   "pygments_lexer": "ipython3",
   "version": "3.6.12"
  }
 },
 "nbformat": 4,
 "nbformat_minor": 4
}
