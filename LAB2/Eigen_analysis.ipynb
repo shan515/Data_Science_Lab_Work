{
 "cells": [
  {
   "cell_type": "code",
   "execution_count": 4,
   "metadata": {},
   "outputs": [
    {
     "name": "stdout",
     "output_type": "stream",
     "text": [
      "Eigen values\n",
      "[1.125 0.375]\n",
      "Eigen Vectors\n",
      "[[ 0.70710678 -0.70710678]\n",
      " [ 0.70710678  0.70710678]]\n"
     ]
    }
   ],
   "source": [
    "import numpy as np\n",
    "from numpy import linalg as la\n",
    "\n",
    "N = int(input(\"Enter the dimension of data : \")) #dimension\n",
    "n = int(input(\"Number of data points : \"))\n",
    "\n",
    "X = input( [[0 for a in range(n)] for b in range(N)])\n",
    "X = np.array(X)\n",
    "\n",
    "#X = [[6,5,3,4,4,4,5,5],[5,6,4,3,4,5,5,4]]\n",
    "#X = np.array([[6,5],[5,6],[3,4],[4,3],[4,4],[4,5],[5,5],[5,4]]) \n",
    "\n",
    "print(np.shape(X))\n",
    "\n",
    "#X = np.array(X).T\n",
    "print(\"Covarience is : \")\n",
    "C = np.cov(X,ddof=0)\n",
    "\n",
    "#Eigen values and vectors\n",
    "w, v = la.eig(C)\n",
    "print(\"Eigen values\")\n",
    "print(w)\n",
    "print(\"Eigen Vectors\")\n",
    "print(v)"
   ]
  },
  {
   "cell_type": "code",
   "execution_count": 5,
   "metadata": {},
   "outputs": [
    {
     "name": "stdout",
     "output_type": "stream",
     "text": [
      "[6 5]\n"
     ]
    },
    {
     "data": {
      "text/plain": [
       "array([0.70710678, 7.77817459])"
      ]
     },
     "execution_count": 5,
     "metadata": {},
     "output_type": "execute_result"
    }
   ],
   "source": [
    "#Complete reconstruction \n",
    "X = np.array(X)\n",
    "x1 = X[:,0]\n",
    "x1 = np.array(x1)\n",
    "y = np.dot(v,x1.T)\n",
    "print(x1)\n",
    "y\n",
    "\n",
    "x1_ = np.dot(np.array(v).T, y) \n",
    "x1_"
   ]
  },
  {
   "cell_type": "code",
   "execution_count": 17,
   "metadata": {},
   "outputs": [
    {
     "name": "stdout",
     "output_type": "stream",
     "text": [
      "Original Data :\n",
      "[6 5]\n",
      "Transformed data: \n",
      "[7.77817459]\n",
      "Reconstructed data: \n",
      "[[5.5]\n",
      " [5.5]]\n"
     ]
    }
   ],
   "source": [
    "#Partial Reconstruction\n",
    "v_ = np.delete(v,(0),axis=0)\n",
    "X  = np.array(X)\n",
    "x2 = X[:,0]\n",
    "x2 = np.array(x2)\n",
    "x2 = x2.T\n",
    "y2 = np.dot(v_,x2)\n",
    "print(\"Original Data :\")\n",
    "print(x2)\n",
    "print(\"Transformed data: \")\n",
    "print(y2)\n",
    "\n",
    "x2_ = np.array(v_).T * y2 \n",
    "print(\"Reconstructed data: \")\n",
    "print(x2_)"
   ]
  },
  {
   "cell_type": "code",
   "execution_count": 14,
   "metadata": {},
   "outputs": [
    {
     "data": {
      "text/plain": [
       "array([[ 0.70710678, -0.70710678]])"
      ]
     },
     "execution_count": 14,
     "metadata": {},
     "output_type": "execute_result"
    }
   ],
   "source": []
  }
 ],
 "metadata": {
  "kernelspec": {
   "display_name": "Python 3",
   "language": "python",
   "name": "python3"
  },
  "language_info": {
   "codemirror_mode": {
    "name": "ipython",
    "version": 3
   },
   "file_extension": ".py",
   "mimetype": "text/x-python",
   "name": "python",
   "nbconvert_exporter": "python",
   "pygments_lexer": "ipython3",
   "version": "3.6.12"
  }
 },
 "nbformat": 4,
 "nbformat_minor": 4
}
