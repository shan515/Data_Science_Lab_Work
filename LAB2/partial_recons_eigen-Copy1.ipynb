{
 "cells": [
  {
   "cell_type": "code",
   "execution_count": 1,
   "metadata": {},
   "outputs": [
    {
     "name": "stdout",
     "output_type": "stream",
     "text": [
      "(2, 8)\n",
      "Covarience is : \n",
      "[[0.75  0.375]\n",
      " [0.375 0.75 ]]\n",
      "Eigen values\n",
      "[1.125 0.375]\n",
      "Eigen Vectors\n",
      "[[ 0.70710678 -0.70710678]\n",
      " [ 0.70710678  0.70710678]]\n"
     ]
    }
   ],
   "source": [
    "import numpy as np\n",
    "from numpy import linalg as la\n",
    "\n",
    "X = [[6,5,3,4,4,4,5,5],[5,6,4,3,4,5,5,4]]\n",
    "print(np.shape(X))\n",
    "\n",
    "print(\"Covarience is : \")\n",
    "C = np.cov(X,ddof=0)\n",
    "print(C)\n",
    "\n",
    "#Eigen values and vectors\n",
    "w, v = la.eig(C)\n",
    "print(\"Eigen values\")\n",
    "print(w)\n",
    "print(\"Eigen Vectors\")\n",
    "print(v)\n",
    "\n",
    "A_new = np.delete(v,(0),axis=0)\n",
    "X = np.array(X)\n",
    "x_new = []\n",
    "x_new = np.array(x_new)\n",
    "x = []\n",
    "x = np.array(x)\n",
    "y = []\n",
    "y = np.array(y)\n",
    "res = [[0 for a in range(8)] for b in range(2)]\n",
    "res = np.array(res)\n",
    "for i in range (8):\n",
    "    x = X[:,i]\n",
    "    x = np.array(x)\n",
    "    x = x .T\n",
    "    y = np.dot(A_new,x)\n",
    "    x_new = np.array(A_new).T * y\n",
    "    x_new = np.array(x_new.T)\n",
    "    x_new = x_new.T\n",
    "    res = np.append(res,x_new,axis=1)\n",
    "for j in range (8):\n",
    "    res = np.delete(res,(0),axis=1)"
   ]
  },
  {
   "cell_type": "code",
   "execution_count": 2,
   "metadata": {
    "scrolled": true
   },
   "outputs": [
    {
     "data": {
      "text/plain": [
       "array([[5.5, 5.5, 3.5, 3.5, 4. , 4.5, 5. , 4.5],\n",
       "       [5.5, 5.5, 3.5, 3.5, 4. , 4.5, 5. , 4.5]])"
      ]
     },
     "execution_count": 2,
     "metadata": {},
     "output_type": "execute_result"
    }
   ],
   "source": [
    "res"
   ]
  },
  {
   "cell_type": "code",
   "execution_count": 3,
   "metadata": {},
   "outputs": [
    {
     "data": {
      "text/plain": [
       "array([[6, 5, 3, 4, 4, 4, 5, 5],\n",
       "       [5, 6, 4, 3, 4, 5, 5, 4]])"
      ]
     },
     "execution_count": 3,
     "metadata": {},
     "output_type": "execute_result"
    }
   ],
   "source": [
    "X"
   ]
  },
  {
   "cell_type": "code",
   "execution_count": 4,
   "metadata": {},
   "outputs": [
    {
     "data": {
      "text/plain": [
       "0.375"
      ]
     },
     "execution_count": 4,
     "metadata": {},
     "output_type": "execute_result"
    }
   ],
   "source": [
    "E = (X-res)**2\n",
    "E = np.sum(E,axis=1)/8\n",
    "E = np.sum(E,axis=0)\n",
    "E"
   ]
  }
 ],
 "metadata": {
  "kernelspec": {
   "display_name": "Python 3",
   "language": "python",
   "name": "python3"
  },
  "language_info": {
   "codemirror_mode": {
    "name": "ipython",
    "version": 3
   },
   "file_extension": ".py",
   "mimetype": "text/x-python",
   "name": "python",
   "nbconvert_exporter": "python",
   "pygments_lexer": "ipython3",
   "version": "3.6.12"
  }
 },
 "nbformat": 4,
 "nbformat_minor": 4
}
